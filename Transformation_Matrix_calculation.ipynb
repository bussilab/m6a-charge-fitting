{
 "cells": [
  {
   "cell_type": "markdown",
   "metadata": {},
   "source": [
    "Notebook example for calculation of a Tranformation Matrix.\n",
    "\n",
    "First of all, I genrate  20*N_frame array, relative to 20 energy sets obtained with 20 sets of charges that are Aduri charges plus perturbations drawn from gaussain distribution with 0 average and standard deviation of 1 e\n"
   ]
  },
  {
   "cell_type": "code",
   "execution_count": 1,
   "metadata": {},
   "outputs": [],
   "source": [
    "import panedr\n",
    "import numpy as np\n",
    "import matplotlib.pyplot as plt\n",
    "\n",
    "\n",
    "ME=[]\n",
    "for i in range(20):\n",
    "    em = \"Rerun/rerun\"+str(i+1)+\"_lam15.edr\"\n",
    "    df = panedr.edr_to_df(em)\n",
    "    ME.append(np.array(df[u'Potential']))\n",
    "ME=np.array(ME)"
   ]
  },
  {
   "cell_type": "markdown",
   "metadata": {},
   "source": [
    "also energies for the unperturbated case are loaded"
   ]
  },
  {
   "cell_type": "code",
   "execution_count": 2,
   "metadata": {},
   "outputs": [],
   "source": [
    "em = \"lam15/ener_trj_conc.edr\"\n",
    "df = panedr.edr_to_df(em)\n",
    "E0=np.array(df[u'Potential'])"
   ]
  },
  {
   "cell_type": "markdown",
   "metadata": {},
   "source": [
    "DeQs and relative combinations (DeQ1*DeQ1, DeQ1*DeQ1, etc.) are loaded"
   ]
  },
  {
   "cell_type": "code",
   "execution_count": 4,
   "metadata": {},
   "outputs": [
    {
     "data": {
      "text/plain": [
       "array([[-4.04318909e-01, -1.83846920e+00,  4.98887820e-01,\n",
       "         1.31954480e+00, -8.79229298e-01, -1.78051872e+00,\n",
       "        -2.38504532e+00,  3.50485676e-01, -5.92256750e-01,\n",
       "        -4.61147821e-01,  1.46084855e+00,  1.33568040e+00,\n",
       "         5.94181438e-02, -2.62034325e-01, -1.00308138e+00,\n",
       "        -2.41695092e+00, -1.16138601e+00,  4.70105080e-01,\n",
       "         1.60581075e-02, -5.14091445e-01],\n",
       "       [ 1.63473780e-01,  3.37996900e+00,  2.48889057e-01,\n",
       "         1.74119849e+00,  7.73044158e-01,  3.17024691e+00,\n",
       "         5.68844116e+00,  1.22840209e-01,  3.50768058e-01,\n",
       "         2.12657313e-01,  2.13407849e+00,  1.78404214e+00,\n",
       "         3.53051582e-03,  6.86619876e-02,  1.00617224e+00,\n",
       "         5.84165177e+00,  1.34881747e+00,  2.20998787e-01,\n",
       "         2.57862818e-04,  2.64290014e-01],\n",
       "       [ 6.98049176e-01, -5.90535993e-01,  1.53127354e+00,\n",
       "         1.28769041e+00, -4.33493240e-01,  1.17319282e-02,\n",
       "         1.33060244e+00, -1.36374737e+00,  5.03893693e-02,\n",
       "         2.12289865e+00,  3.66295092e-01,  6.55340036e-01,\n",
       "        -2.34682442e-01,  5.81041726e-02,  1.74105993e+00,\n",
       "         1.10065350e+00, -1.32621709e-02,  4.93201230e-01,\n",
       "         7.49611245e-01, -1.63220545e-01],\n",
       "       [ 4.87272652e-01,  3.48732760e-01,  2.34479866e+00,\n",
       "         1.65814660e+00,  1.87916389e-01,  1.37638139e-04,\n",
       "         1.77050284e+00,  1.85980690e+00,  2.53908854e-03,\n",
       "         4.50669867e+00,  1.34172095e-01,  4.29470563e-01,\n",
       "         5.50758486e-02,  3.37609488e-03,  3.03128968e+00,\n",
       "         1.21143813e+00,  1.75885177e-04,  2.43247453e-01,\n",
       "         5.61917018e-01,  2.66409463e-02],\n",
       "       [-8.57289511e-01,  3.19612416e-01, -2.65110997e+00,\n",
       "        -2.66379316e-01, -3.73599349e-01,  5.59187507e-01,\n",
       "        -4.43484655e-01,  4.62458006e-01,  8.78199135e-01,\n",
       "         1.60525709e-01,  1.29790388e+00,  2.21406783e-01,\n",
       "        -1.64575851e+00,  1.02473875e+00,  1.56358875e-01,\n",
       "         1.15556700e+00,  1.42676071e-01, -1.43022105e+00,\n",
       "         1.36280629e-02,  2.47512523e-01],\n",
       "       [ 7.34945306e-01,  1.02152096e-01,  7.02838408e+00,\n",
       "         7.09579402e-02,  1.39576473e-01,  3.12690668e-01,\n",
       "         1.96678639e-01,  2.13867408e-01,  7.71233721e-01,\n",
       "         2.57685032e-02,  1.68455448e+00,  4.90209636e-02,\n",
       "         2.70852106e+00,  1.05008950e+00,  2.44480977e-02,\n",
       "         1.33533509e+00,  2.03564612e-02,  2.04553224e+00,\n",
       "         1.85724097e-04,  6.12624489e-02],\n",
       "       [-5.58003099e-01,  2.45438314e+00,  5.10438365e-01,\n",
       "        -1.05655908e+00, -3.24887221e-01,  6.86485934e-01,\n",
       "         4.95003694e-01,  6.47403507e-01, -1.57649145e+00,\n",
       "        -1.54911670e+00, -1.29441429e+00, -9.44290816e-01,\n",
       "         6.85243481e-01, -4.62484577e-01,  4.73085963e-01,\n",
       "        -3.96019683e-01,  8.81616101e-01, -6.02331592e-01,\n",
       "        -6.48627302e-01,  1.23966329e-01],\n",
       "       [ 3.11367458e-01,  6.02399661e+00,  2.60547325e-01,\n",
       "         1.11631709e+00,  1.05551707e-01,  4.71262938e-01,\n",
       "         2.45028657e-01,  4.19131301e-01,  2.48532530e+00,\n",
       "         2.39976256e+00,  1.67550837e+00,  8.91685145e-01,\n",
       "         4.69558628e-01,  2.13891984e-01,  2.23810328e-01,\n",
       "         1.56831589e-01,  7.77246949e-01,  3.62803346e-01,\n",
       "         4.20717376e-01,  1.53676508e-02],\n",
       "       [ 1.73908367e-01,  7.82552054e-02, -4.09854120e-01,\n",
       "        -2.88812310e-01,  7.24781433e-02,  7.47461269e-02,\n",
       "        -1.65520425e-02, -1.82304237e-01,  4.74989187e-01,\n",
       "        -2.69771866e-01, -6.95265047e-01, -2.05586416e-01,\n",
       "        -8.62248554e-02,  1.53018680e-01, -4.08118477e-01,\n",
       "         2.68595395e-02, -1.59578040e-01,  1.53025131e-01,\n",
       "         7.16108064e-03,  1.08053386e-01],\n",
       "       [ 3.02441203e-02,  6.12387718e-03,  1.67980400e-01,\n",
       "         8.34125501e-02,  5.25308126e-03,  5.58698348e-03,\n",
       "         2.73970109e-04,  3.32348349e-02,  2.25614728e-01,\n",
       "         7.27768597e-02,  4.83393485e-01,  4.22657746e-02,\n",
       "         7.43472569e-03,  2.34147165e-02,  1.66560692e-01,\n",
       "         7.21434864e-04,  2.54651508e-02,  2.34166908e-02,\n",
       "         5.12810760e-05,  1.16755343e-02],\n",
       "       [-2.82234481e-01,  1.08568224e+00,  7.63933720e-01,\n",
       "         1.69916519e+00,  3.81139957e-01, -2.08889177e-02,\n",
       "        -3.17354711e+00, -4.77973920e-01, -2.98434441e-02,\n",
       "        -9.78970085e-01,  5.35101654e-01,  8.75324844e-01,\n",
       "        -1.39443951e-02, -1.52252877e-02, -1.74642479e+00,\n",
       "        -2.66022549e+00,  1.54024998e-02,  2.31856404e-01,\n",
       "         1.20373380e-02,  8.39102859e-02],\n",
       "       [ 3.46618359e-01, -5.87597582e-01, -1.32260648e+00,\n",
       "        -3.51499443e-01,  3.28479493e-01, -9.95643824e-01,\n",
       "         1.05773100e+00,  1.62084907e-01, -5.20119365e-01,\n",
       "        -7.40260808e-02,  1.89604100e+00,  2.95728701e-01,\n",
       "        -9.77879156e-02, -2.68516726e-01, -1.56840675e-01,\n",
       "        -2.79294873e+00, -1.65701993e-01, -6.72354181e-01,\n",
       "         2.18840899e-04, -1.27244071e-01],\n",
       "       [ 2.25611204e-01, -4.51230781e+00,  2.54651483e-01,\n",
       "        -1.39417705e+00,  2.85650363e-01, -1.22230106e+00,\n",
       "        -1.18060624e+00,  2.26905656e-01,  9.33687703e-01,\n",
       "         7.14371792e-01, -1.89094325e+00, -1.26127074e+00,\n",
       "         4.07158957e-02,  1.21186834e-01, -4.74543718e-01,\n",
       "         9.57160139e-01, -1.02389661e+00, -2.83159141e-01,\n",
       "        -1.04157270e-02, -6.37300293e-02],\n",
       "       [-7.03144413e-02, -1.43869785e-01, -2.04471229e-01,\n",
       "        -3.81100782e-01, -6.37249070e-02, -1.33086878e-01,\n",
       "         3.94773713e-02, -6.38950238e-02, -2.81315552e-01,\n",
       "         1.24404708e-01, -1.01567694e+00, -2.74597748e-01,\n",
       "        -5.12332086e-03, -4.00961466e-02,  4.09376044e-01,\n",
       "        -6.49181889e-02,  1.85331703e-01,  7.19378916e-02,\n",
       "         1.14993403e-04, -5.55493216e-02],\n",
       "       [-5.98430237e-01, -1.88742635e-01, -4.05957455e+00,\n",
       "        -3.43014092e-01,  1.61952792e-01,  6.56034766e-03,\n",
       "        -5.90101762e-01, -6.30675891e-01,  4.42519005e-02,\n",
       "         3.40779810e-01,  4.75415821e-01,  1.45096729e-01,\n",
       "         3.86230625e-01,  5.95415970e-02,  2.72230171e-01,\n",
       "         1.27187886e+00, -1.89219443e-03, -7.05386780e-01,\n",
       "         1.02157492e-02, -4.03991289e-02],\n",
       "       [-3.89513603e-01, -1.44940159e+00,  7.81620763e-01,\n",
       "        -1.36052100e+00,  1.40836414e-01,  8.05380367e-03,\n",
       "         6.58653121e-01, -8.82894832e-01, -7.94384100e-02,\n",
       "        -3.28861775e+00, -4.74137603e-01, -6.18831577e-01,\n",
       "        -1.60814613e-01, -2.68722837e-02,  8.23671012e-01,\n",
       "        -4.35880450e-01, -1.16921434e-02, -2.97070682e-01,\n",
       "        -4.86218319e-01, -2.02338518e-02],\n",
       "       [ 1.21396593e-01, -4.62125155e-02, -6.27598770e-01,\n",
       "        -3.71900842e-01, -3.14187852e-02,  8.76916191e-04,\n",
       "        -2.20241880e-02,  2.48616924e-01,  2.39344056e-02,\n",
       "        -5.72698330e-01, -2.54672174e-01, -1.34729009e-01,\n",
       "         2.02354596e-02,  8.89102381e-03, -7.10558727e-01,\n",
       "         2.95630462e-02,  2.11635123e-03,  7.54721830e-02,\n",
       "         5.36802657e-03, -1.76365326e-02],\n",
       "       [ 4.78370204e-01,  7.84451326e-01, -1.35322824e+00,\n",
       "         2.81445486e-01,  1.21377654e-01,  3.83874358e-01,\n",
       "        -2.19526542e-01,  2.99396935e-01, -1.38447343e+00,\n",
       "        -2.48673057e-01, -1.68002533e+00, -2.09072392e-01,\n",
       "        -1.12774529e+00, -4.73925866e-01,  7.39711887e-02,\n",
       "        -4.57627277e-01,  1.25785521e-01,  8.61467320e-01,\n",
       "        -8.83953363e-03,  3.06832189e-02],\n",
       "       [-1.49089819e-01,  2.50113353e-02,  1.08656834e+00,\n",
       "         7.69336256e-02, -2.70777871e-02,  4.17971003e-02,\n",
       "         7.34057683e-03, -8.43080541e-02,  4.17135093e-01,\n",
       "        -4.33053200e-02, -9.02387201e-01, -4.55182271e-02,\n",
       "         1.41905289e-01,  1.56804170e-01, -6.38129458e-02,\n",
       "         3.10379975e-02, -2.27679677e-02, -2.18859763e-01,\n",
       "         9.75916571e-05,  2.67445663e-02],\n",
       "       [-9.70414080e-02,  1.92068257e-01, -2.09205267e-01,\n",
       "         3.05147268e-01, -2.35472226e-02,  5.13121648e-02,\n",
       "        -8.19332215e-03, -1.18024403e-01, -7.48816392e-01,\n",
       "         4.17908104e-01,  8.99961015e-01,  1.94133365e-01,\n",
       "        -5.90850201e-02, -7.07687796e-02, -1.93075123e-01,\n",
       "        -1.06369063e-02, -1.40686569e-01, -9.21718708e-02,\n",
       "        -4.64487241e-03,  1.33949817e-02]])"
      ]
     },
     "execution_count": 4,
     "metadata": {},
     "output_type": "execute_result"
    }
   ],
   "source": [
    "vQ=np.load(\"../DeQs_matrix.npy\")\n",
    "vQ"
   ]
  },
  {
   "cell_type": "markdown",
   "metadata": {},
   "source": [
    "energies obtained with rerun mode of gromacs for a set of test charges (testN3) are loaded"
   ]
  },
  {
   "cell_type": "code",
   "execution_count": 10,
   "metadata": {},
   "outputs": [],
   "source": [
    "em = \"Rerun/testN3_rerun_lam15.edr\"\n",
    "df = panedr.edr_to_df(em)\n",
    "N3=np.array(df[u'Potential'])"
   ]
  },
  {
   "cell_type": "markdown",
   "metadata": {},
   "source": [
    "DeQs and combination relative to testN3 cases"
   ]
  },
  {
   "cell_type": "code",
   "execution_count": 5,
   "metadata": {},
   "outputs": [],
   "source": [
    "dq=[-0.06,0.03,-0.03,0,0.02] #deQ corrispondenti al rerun testN3\n",
    "v0=[]\n",
    "for i in range(5):\n",
    "    v0.append(dq[i])\n",
    "    v0.append(dq[i]*dq[i])\n",
    "for i in range(4):\n",
    "    for k in range(4-i):\n",
    "        v0.append(dq[i]*dq[i+1+k])"
   ]
  },
  {
   "cell_type": "markdown",
   "metadata": {},
   "source": [
    "Calculating the Transformation Matrix"
   ]
  },
  {
   "cell_type": "code",
   "execution_count": 6,
   "metadata": {},
   "outputs": [],
   "source": [
    "TrM=[]\n",
    "for i in range(len(E0)):\n",
    "    b= ME[:,i]-E0[i]\n",
    "    x = np.linalg.inv(np.transpose(vQ)).dot(b)\n",
    "    \n",
    "    TrM.append(x)"
   ]
  },
  {
   "cell_type": "markdown",
   "metadata": {},
   "source": [
    "Checking differences in DeU for testN3 charges, computed thorugh the Transformation Matrix or with gmx -rerun. The differences are significative only for really high energies (which have almost no impact on Free Energy calcula"
   ]
  },
  {
   "cell_type": "code",
   "execution_count": 11,
   "metadata": {},
   "outputs": [
    {
     "data": {
      "image/png": "[encoded data removed]",
      "text/plain": [
       "<Figure size 432x288 with 1 Axes>"
      ]
     },
     "metadata": {
      "needs_background": "light"
     },
     "output_type": "display_data"
    }
   ],
   "source": [
    "plt.plot(ME.mean(0),np.abs(N3-E0-np.matmul(TrM,v0)),'x')\n",
    "plt.xscale('log')\n",
    "plt.yscale('log')\n",
    "plt.ylabel('Errore (kJ/mol)')\n",
    "plt.xlabel('+E rerun')\n",
    "plt.show()"
   ]
  },
  {
   "cell_type": "code",
   "execution_count": 12,
   "metadata": {},
   "outputs": [],
   "source": [
    "np.save(\"Trans_vectors\",TrM)"
   ]
  },
  {
   "cell_type": "code",
   "execution_count": null,
   "metadata": {},
   "outputs": [],
   "source": []
  }
 ],
 "metadata": {
  "kernelspec": {
   "display_name": "Python 3",
   "language": "python",
   "name": "python3"
  },
  "language_info": {
   "codemirror_mode": {
    "name": "ipython",
    "version": 3
   },
   "file_extension": ".py",
   "mimetype": "text/x-python",
   "name": "python",
   "nbconvert_exporter": "python",
   "pygments_lexer": "ipython3",
   "version": "3.7.6"
  }
 },
 "nbformat": 4,
 "nbformat_minor": 4
}
