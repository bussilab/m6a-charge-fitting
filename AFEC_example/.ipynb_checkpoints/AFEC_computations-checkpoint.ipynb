{
 "cells": [
  {
   "cell_type": "code",
   "execution_count": 1,
   "metadata": {},
   "outputs": [
    {
     "name": "stdout",
     "output_type": "stream",
     "text": [
      "md_lam0.xvg: Ignoring set 'pV (kJ/mol)'.\n",
      "md_lam0.xvg: 0.0 - 10000.0; lambda = (0, 0, 0, 0, 0)\n",
      "    dH/dl & foreign lambdas:\n",
      "        dH/dl (mass-lambda) (500001 pts)\n",
      "        dH/dl (coul-lambda) (500001 pts)\n",
      "        dH/dl (vdw-lambda) (500001 pts)\n",
      "        dH/dl (bonded-lambda) (500001 pts)\n",
      "        dH/dl (restraint-lambda) (500001 pts)\n",
      "        delta H to (0, 0, 0, 0, 0) (500001 pts)\n",
      "        delta H to (0, 0.01, 0.01, 0, 0) (500001 pts)\n",
      "\n",
      "\n",
      "md_lam10.xvg: Ignoring set 'pV (kJ/mol)'.\n",
      "md_lam10.xvg: 0.0 - 10000.0; lambda = (0, 0.8, 0.8, 0, 0)\n",
      "    dH/dl & foreign lambdas:\n",
      "        dH/dl (mass-lambda) (500001 pts)\n",
      "        dH/dl (coul-lambda) (500001 pts)\n",
      "        dH/dl (vdw-lambda) (500001 pts)\n",
      "        dH/dl (bonded-lambda) (500001 pts)\n",
      "        dH/dl (restraint-lambda) (500001 pts)\n",
      "        delta H to (0, 0.65, 0.65, 0, 0) (500001 pts)\n",
      "        delta H to (0, 0.8, 0.8, 0, 0) (500001 pts)\n",
      "        delta H to (0, 0.9, 0.9, 0, 0) (500001 pts)\n",
      "\n",
      "\n",
      "md_lam11.xvg: Ignoring set 'pV (kJ/mol)'.\n",
      "md_lam11.xvg: 0.0 - 10000.0; lambda = (0, 0.9, 0.9, 0, 0)\n",
      "    dH/dl & foreign lambdas:\n",
      "        dH/dl (mass-lambda) (500001 pts)\n",
      "        dH/dl (coul-lambda) (500001 pts)\n",
      "        dH/dl (vdw-lambda) (500001 pts)\n",
      "        dH/dl (bonded-lambda) (500001 pts)\n",
      "        dH/dl (restraint-lambda) (500001 pts)\n",
      "        delta H to (0, 0.8, 0.8, 0, 0) (500001 pts)\n",
      "        delta H to (0, 0.9, 0.9, 0, 0) (500001 pts)\n",
      "        delta H to (0, 0.95, 0.95, 0, 0) (500001 pts)\n",
      "\n",
      "\n",
      "md_lam12.xvg: Ignoring set 'pV (kJ/mol)'.\n",
      "md_lam12.xvg: 0.0 - 10000.0; lambda = (0, 0.95, 0.95, 0, 0)\n",
      "    dH/dl & foreign lambdas:\n",
      "        dH/dl (mass-lambda) (500001 pts)\n",
      "        dH/dl (coul-lambda) (500001 pts)\n",
      "        dH/dl (vdw-lambda) (500001 pts)\n",
      "        dH/dl (bonded-lambda) (500001 pts)\n",
      "        dH/dl (restraint-lambda) (500001 pts)\n",
      "        delta H to (0, 0.9, 0.9, 0, 0) (500001 pts)\n",
      "        delta H to (0, 0.95, 0.95, 0, 0) (500001 pts)\n",
      "        delta H to (0, 0.97, 0.97, 0, 0) (500001 pts)\n",
      "\n",
      "\n",
      "md_lam13.xvg: Ignoring set 'pV (kJ/mol)'.\n",
      "md_lam13.xvg: 0.0 - 10000.0; lambda = (0, 0.97, 0.97, 0, 0)\n",
      "    dH/dl & foreign lambdas:\n",
      "        dH/dl (mass-lambda) (500001 pts)\n",
      "        dH/dl (coul-lambda) (500001 pts)\n",
      "        dH/dl (vdw-lambda) (500001 pts)\n",
      "        dH/dl (bonded-lambda) (500001 pts)\n",
      "        dH/dl (restraint-lambda) (500001 pts)\n",
      "        delta H to (0, 0.95, 0.95, 0, 0) (500001 pts)\n",
      "        delta H to (0, 0.97, 0.97, 0, 0) (500001 pts)\n",
      "        delta H to (0, 0.99, 0.99, 0, 0) (500001 pts)\n",
      "\n",
      "\n",
      "md_lam14.xvg: Ignoring set 'pV (kJ/mol)'.\n",
      "md_lam14.xvg: 0.0 - 10000.0; lambda = (0, 0.99, 0.99, 0, 0)\n",
      "    dH/dl & foreign lambdas:\n",
      "        dH/dl (mass-lambda) (500001 pts)\n",
      "        dH/dl (coul-lambda) (500001 pts)\n",
      "        dH/dl (vdw-lambda) (500001 pts)\n",
      "        dH/dl (bonded-lambda) (500001 pts)\n",
      "        dH/dl (restraint-lambda) (500001 pts)\n",
      "        delta H to (0, 0.97, 0.97, 0, 0) (500001 pts)\n",
      "        delta H to (0, 0.99, 0.99, 0, 0) (500001 pts)\n",
      "        delta H to (0, 1, 1, 0, 0) (500001 pts)\n",
      "\n",
      "\n",
      "md_lam15.xvg: Ignoring set 'pV (kJ/mol)'.\n",
      "md_lam15.xvg: 0.0 - 10000.0; lambda = (0, 1, 1, 0, 0)\n",
      "    dH/dl & foreign lambdas:\n",
      "        dH/dl (mass-lambda) (500001 pts)\n",
      "        dH/dl (coul-lambda) (500001 pts)\n",
      "        dH/dl (vdw-lambda) (500001 pts)\n",
      "        dH/dl (bonded-lambda) (500001 pts)\n",
      "        dH/dl (restraint-lambda) (500001 pts)\n",
      "        delta H to (0, 0.99, 0.99, 0, 0) (500001 pts)\n",
      "        delta H to (0, 1, 1, 0, 0) (500001 pts)\n",
      "\n",
      "\n",
      "md_lam1.xvg: Ignoring set 'pV (kJ/mol)'.\n",
      "md_lam1.xvg: 0.0 - 10000.0; lambda = (0, 0.01, 0.01, 0, 0)\n",
      "    dH/dl & foreign lambdas:\n",
      "        dH/dl (mass-lambda) (500001 pts)\n",
      "        dH/dl (coul-lambda) (500001 pts)\n",
      "        dH/dl (vdw-lambda) (500001 pts)\n",
      "        dH/dl (bonded-lambda) (500001 pts)\n",
      "        dH/dl (restraint-lambda) (500001 pts)\n",
      "        delta H to (0, 0, 0, 0, 0) (500001 pts)\n",
      "        delta H to (0, 0.01, 0.01, 0, 0) (500001 pts)\n",
      "        delta H to (0, 0.03, 0.03, 0, 0) (500001 pts)\n",
      "\n",
      "\n",
      "md_lam2.xvg: Ignoring set 'pV (kJ/mol)'.\n",
      "md_lam2.xvg: 0.0 - 10000.0; lambda = (0, 0.03, 0.03, 0, 0)\n",
      "    dH/dl & foreign lambdas:\n",
      "        dH/dl (mass-lambda) (500001 pts)\n",
      "        dH/dl (coul-lambda) (500001 pts)\n",
      "        dH/dl (vdw-lambda) (500001 pts)\n",
      "        dH/dl (bonded-lambda) (500001 pts)\n",
      "        dH/dl (restraint-lambda) (500001 pts)\n",
      "        delta H to (0, 0.01, 0.01, 0, 0) (500001 pts)\n",
      "        delta H to (0, 0.03, 0.03, 0, 0) (500001 pts)\n",
      "        delta H to (0, 0.05, 0.05, 0, 0) (500001 pts)\n",
      "\n",
      "\n",
      "md_lam3.xvg: Ignoring set 'pV (kJ/mol)'.\n",
      "md_lam3.xvg: 0.0 - 10000.0; lambda = (0, 0.05, 0.05, 0, 0)\n",
      "    dH/dl & foreign lambdas:\n",
      "        dH/dl (mass-lambda) (500001 pts)\n",
      "        dH/dl (coul-lambda) (500001 pts)\n",
      "        dH/dl (vdw-lambda) (500001 pts)\n",
      "        dH/dl (bonded-lambda) (500001 pts)\n",
      "        dH/dl (restraint-lambda) (500001 pts)\n",
      "        delta H to (0, 0.03, 0.03, 0, 0) (500001 pts)\n",
      "        delta H to (0, 0.05, 0.05, 0, 0) (500001 pts)\n",
      "        delta H to (0, 0.1, 0.1, 0, 0) (500001 pts)\n",
      "\n",
      "\n",
      "md_lam4.xvg: Ignoring set 'pV (kJ/mol)'.\n",
      "md_lam4.xvg: 0.0 - 10000.0; lambda = (0, 0.1, 0.1, 0, 0)\n",
      "    dH/dl & foreign lambdas:\n",
      "        dH/dl (mass-lambda) (500001 pts)\n",
      "        dH/dl (coul-lambda) (500001 pts)\n",
      "        dH/dl (vdw-lambda) (500001 pts)\n",
      "        dH/dl (bonded-lambda) (500001 pts)\n",
      "        dH/dl (restraint-lambda) (500001 pts)\n",
      "        delta H to (0, 0.05, 0.05, 0, 0) (500001 pts)\n",
      "        delta H to (0, 0.1, 0.1, 0, 0) (500001 pts)\n",
      "        delta H to (0, 0.2, 0.2, 0, 0) (500001 pts)\n",
      "\n",
      "\n",
      "md_lam5.xvg: Ignoring set 'pV (kJ/mol)'.\n",
      "md_lam5.xvg: 0.0 - 10000.0; lambda = (0, 0.2, 0.2, 0, 0)\n",
      "    dH/dl & foreign lambdas:\n",
      "        dH/dl (mass-lambda) (500001 pts)\n",
      "        dH/dl (coul-lambda) (500001 pts)\n",
      "        dH/dl (vdw-lambda) (500001 pts)\n",
      "        dH/dl (bonded-lambda) (500001 pts)\n",
      "        dH/dl (restraint-lambda) (500001 pts)\n",
      "        delta H to (0, 0.1, 0.1, 0, 0) (500001 pts)\n",
      "        delta H to (0, 0.2, 0.2, 0, 0) (500001 pts)\n",
      "        delta H to (0, 0.35, 0.35, 0, 0) (500001 pts)\n",
      "\n",
      "\n",
      "md_lam6.xvg: Ignoring set 'pV (kJ/mol)'.\n",
      "md_lam6.xvg: 0.0 - 10000.0; lambda = (0, 0.35, 0.35, 0, 0)\n",
      "    dH/dl & foreign lambdas:\n",
      "        dH/dl (mass-lambda) (500001 pts)\n",
      "        dH/dl (coul-lambda) (500001 pts)\n",
      "        dH/dl (vdw-lambda) (500001 pts)\n",
      "        dH/dl (bonded-lambda) (500001 pts)\n",
      "        dH/dl (restraint-lambda) (500001 pts)\n",
      "        delta H to (0, 0.2, 0.2, 0, 0) (500001 pts)\n",
      "        delta H to (0, 0.35, 0.35, 0, 0) (500001 pts)\n",
      "        delta H to (0, 0.45, 0.45, 0, 0) (500001 pts)\n",
      "\n",
      "\n",
      "md_lam7.xvg: Ignoring set 'pV (kJ/mol)'.\n",
      "md_lam7.xvg: 0.0 - 10000.0; lambda = (0, 0.45, 0.45, 0, 0)\n",
      "    dH/dl & foreign lambdas:\n",
      "        dH/dl (mass-lambda) (500001 pts)\n",
      "        dH/dl (coul-lambda) (500001 pts)\n",
      "        dH/dl (vdw-lambda) (500001 pts)\n",
      "        dH/dl (bonded-lambda) (500001 pts)\n",
      "        dH/dl (restraint-lambda) (500001 pts)\n",
      "        delta H to (0, 0.35, 0.35, 0, 0) (500001 pts)\n",
      "        delta H to (0, 0.45, 0.45, 0, 0) (500001 pts)\n",
      "        delta H to (0, 0.55, 0.55, 0, 0) (500001 pts)\n",
      "\n",
      "\n",
      "md_lam8.xvg: Ignoring set 'pV (kJ/mol)'.\n",
      "md_lam8.xvg: 0.0 - 10000.0; lambda = (0, 0.55, 0.55, 0, 0)\n",
      "    dH/dl & foreign lambdas:\n",
      "        dH/dl (mass-lambda) (500001 pts)\n",
      "        dH/dl (coul-lambda) (500001 pts)\n",
      "        dH/dl (vdw-lambda) (500001 pts)\n",
      "        dH/dl (bonded-lambda) (500001 pts)\n",
      "        dH/dl (restraint-lambda) (500001 pts)\n",
      "        delta H to (0, 0.45, 0.45, 0, 0) (500001 pts)\n",
      "        delta H to (0, 0.55, 0.55, 0, 0) (500001 pts)\n",
      "        delta H to (0, 0.65, 0.65, 0, 0) (500001 pts)\n",
      "\n",
      "\n",
      "md_lam9.xvg: Ignoring set 'pV (kJ/mol)'.\n",
      "md_lam9.xvg: 0.0 - 10000.0; lambda = (0, 0.65, 0.65, 0, 0)\n",
      "    dH/dl & foreign lambdas:\n",
      "        dH/dl (mass-lambda) (500001 pts)\n",
      "        dH/dl (coul-lambda) (500001 pts)\n",
      "        dH/dl (vdw-lambda) (500001 pts)\n",
      "        dH/dl (bonded-lambda) (500001 pts)\n",
      "        dH/dl (restraint-lambda) (500001 pts)\n",
      "        delta H to (0, 0.55, 0.55, 0, 0) (500001 pts)\n",
      "        delta H to (0, 0.65, 0.65, 0, 0) (500001 pts)\n",
      "        delta H to (0, 0.8, 0.8, 0, 0) (500001 pts)\n",
      "\n",
      "\n",
      "\n",
      "Temperature: 300 K\n",
      "\n",
      "Detailed results in kT (see help for explanation):\n",
      "\n",
      " lam_A  lam_B      DG   +/-     s_A   +/-     s_B   +/-   stdev   +/- \n",
      "     0      1    3.63  0.01    0.54  0.00    0.49  0.00    1.02  0.00\n",
      "     1      2    4.56  0.01    1.31  0.01    2.22  0.02    1.71  0.01\n",
      "     2      3    2.07  0.01    1.18  0.01    1.21  0.01    1.68  0.00\n",
      "     3      4    3.91  0.01    1.69  0.02    1.45  0.02    1.88  0.01\n",
      "     4      5    7.83  0.01    2.00  0.01    1.76  0.02    2.10  0.01\n",
      "     5      6   12.29  0.02    1.21  0.01    1.10  0.01    1.57  0.01\n",
      "     6      7    9.20  0.01    0.28  0.01    0.23  0.01    0.71  0.01\n",
      "     7      8   10.11  0.01    0.29  0.01    0.20  0.01    0.66  0.01\n",
      "     8      9   11.13  0.01    0.33  0.01    0.24  0.00    0.73  0.00\n",
      "     9     10   18.77  0.02    1.52  0.01    1.19  0.01    1.67  0.01\n",
      "    10     11   13.60  0.02    1.74  0.01    1.76  0.01    1.98  0.01\n",
      "    11     12    6.03  0.02    1.54  0.01    1.66  0.01    1.94  0.01\n",
      "    12     13    1.39  0.02    0.54  0.00    0.52  0.00    1.03  0.00\n",
      "    13     14    0.00  0.02    0.82  0.00    0.89  0.00    1.33  0.00\n",
      "    14     15   -0.99  0.01    0.38  0.00    0.43  0.00    0.91  0.00\n",
      "\n",
      "\n",
      "Final results in kJ/mol:\n",
      "\n",
      "point      0 -      1,   DG  9.06 +/-  0.02\n",
      "point      1 -      2,   DG 11.37 +/-  0.02\n",
      "point      2 -      3,   DG  5.16 +/-  0.03\n",
      "point      3 -      4,   DG  9.74 +/-  0.03\n",
      "point      4 -      5,   DG 19.53 +/-  0.03\n",
      "point      5 -      6,   DG 30.65 +/-  0.04\n",
      "point      6 -      7,   DG 22.96 +/-  0.03\n",
      "point      7 -      8,   DG 25.22 +/-  0.02\n",
      "point      8 -      9,   DG 27.75 +/-  0.01\n",
      "point      9 -     10,   DG 46.83 +/-  0.04\n",
      "point     10 -     11,   DG 33.92 +/-  0.04\n",
      "point     11 -     12,   DG 15.04 +/-  0.06\n",
      "point     12 -     13,   DG  3.47 +/-  0.04\n",
      "point     13 -     14,   DG  0.00 +/-  0.05\n",
      "point     14 -     15,   DG -2.47 +/-  0.03\n",
      "\n",
      "total      0 -     15,   DG 258.24 +/-  0.22\n",
      "\n"
     ]
    },
    {
     "name": "stderr",
     "output_type": "stream",
     "text": [
      "         :-) GROMACS - gmx bar, 2019.4-dev-20200518-febfc43-unknown (-:\n",
      "\n",
      "                            GROMACS is written by:\n",
      "     Emile Apol      Rossen Apostolov      Paul Bauer     Herman J.C. Berendsen\n",
      "    Par Bjelkmar      Christian Blau   Viacheslav Bolnykh     Kevin Boyd    \n",
      " Aldert van Buuren   Rudi van Drunen     Anton Feenstra       Alan Gray     \n",
      "  Gerrit Groenhof     Anca Hamuraru    Vincent Hindriksen  M. Eric Irrgang  \n",
      "  Aleksei Iupinov   Christoph Junghans     Joe Jordan     Dimitrios Karkoulis\n",
      "    Peter Kasson        Jiri Kraus      Carsten Kutzner      Per Larsson    \n",
      "  Justin A. Lemkul    Viveca Lindahl    Magnus Lundborg     Erik Marklund   \n",
      "    Pascal Merz     Pieter Meulenhoff    Teemu Murtola       Szilard Pall   \n",
      "    Sander Pronk      Roland Schulz      Michael Shirts    Alexey Shvetsov  \n",
      "   Alfons Sijbers     Peter Tieleman      Jon Vincent      Teemu Virolainen \n",
      " Christian Wennberg    Maarten Wolf   \n",
      "                           and the project leaders:\n",
      "        Mark Abraham, Berk Hess, Erik Lindahl, and David van der Spoel\n",
      "\n",
      "Copyright (c) 1991-2000, University of Groningen, The Netherlands.\n",
      "Copyright (c) 2001-2018, The GROMACS development team at\n",
      "Uppsala University, Stockholm University and\n",
      "the Royal Institute of Technology, Sweden.\n",
      "check out http://www.gromacs.org for more information.\n",
      "\n",
      "GROMACS is free software; you can redistribute it and/or modify it\n",
      "under the terms of the GNU Lesser General Public License\n",
      "as published by the Free Software Foundation; either version 2.1\n",
      "of the License, or (at your option) any later version.\n",
      "\n",
      "GROMACS:      gmx bar, version 2019.4-dev-20200518-febfc43-unknown\n",
      "Executable:   /u/m/mbernett/my_progs/gromacs_barostat_semiisotropic_surftens/bin/gmx_mpi\n",
      "Data prefix:  /u/m/mbernett/my_progs/gromacs_barostat_semiisotropic_surftens\n",
      "Working dir:  /net/sbp/sbpstore1/vpiompon/AFEC/m6a_syn/ReplicaEx\n",
      "Command line:\n",
      "  gmx_mpi bar -f md_lam0.xvg md_lam10.xvg md_lam11.xvg md_lam12.xvg md_lam13.xvg md_lam14.xvg md_lam15.xvg md_lam1.xvg md_lam2.xvg md_lam3.xvg md_lam4.xvg md_lam5.xvg md_lam6.xvg md_lam7.xvg md_lam8.xvg md_lam9.xvg -o -oi\n",
      "\n",
      "\n",
      "GROMACS reminds you: \"I know poetry is not dead, nor genius lost; nor has Mammon gained power over either, to bind or slay; they will both assert their existence, their presence, their liberty and strength again one day.\" (Jane Eyre in Jane Eyre by Charlotte Bronte)\n",
      "\n"
     ]
    }
   ],
   "source": [
    "%%bash\n",
    "module use /u/m/mbernett/my_progs/modulefiles\n",
    "module load GROMACS/2019.4_bar_semiisotropic_surftens\n",
    "gmx_mpi bar -f md_lam*.xvg -o -oi"
   ]
  },
  {
   "cell_type": "code",
   "execution_count": 1,
   "metadata": {},
   "outputs": [
    {
     "ename": "ModuleNotFoundError",
     "evalue": "No module named 'panedr'",
     "output_type": "error",
     "traceback": [
      "\u001b[0;31m---------------------------------------------------------------------------\u001b[0m",
      "\u001b[0;31mModuleNotFoundError\u001b[0m                       Traceback (most recent call last)",
      "\u001b[0;32m<ipython-input-1-b2f28430f0f2>\u001b[0m in \u001b[0;36m<module>\u001b[0;34m\u001b[0m\n\u001b[1;32m      1\u001b[0m \u001b[0;32mimport\u001b[0m \u001b[0mnumpy\u001b[0m \u001b[0;32mas\u001b[0m \u001b[0mnp\u001b[0m\u001b[0;34m\u001b[0m\u001b[0;34m\u001b[0m\u001b[0m\n\u001b[0;32m----> 2\u001b[0;31m \u001b[0;32mimport\u001b[0m \u001b[0mpanedr\u001b[0m\u001b[0;34m\u001b[0m\u001b[0;34m\u001b[0m\u001b[0m\n\u001b[0m\u001b[1;32m      3\u001b[0m \u001b[0;32mfrom\u001b[0m \u001b[0mbussilab\u001b[0m \u001b[0;32mimport\u001b[0m \u001b[0mwham\u001b[0m\u001b[0;34m\u001b[0m\u001b[0;34m\u001b[0m\u001b[0m\n\u001b[1;32m      4\u001b[0m \u001b[0;34m\u001b[0m\u001b[0m\n\u001b[1;32m      5\u001b[0m \u001b[0mem\u001b[0m \u001b[0;34m=\u001b[0m \u001b[0;34m\"ener_lam0.edr\"\u001b[0m\u001b[0;34m\u001b[0m\u001b[0;34m\u001b[0m\u001b[0m\n",
      "\u001b[0;31mModuleNotFoundError\u001b[0m: No module named 'panedr'"
     ]
    }
   ],
   "source": [
    "import numpy as np\n",
    "import panedr\n",
    "from bussilab import wham\n",
    "\n",
    "em = \"ener_lam0.edr\"\n",
    "df = panedr.edr_to_df(em)\n",
    "df[u'Potential']\n",
    "#Ene2d=np.ones(len(df)*16).reshape((len(df),16))\n",
    "\n",
    "\n",
    "\n",
    "\n",
    "Ene2d = np.ones((len(df),16))\n",
    "bias=np.ones((len(df),16))\n",
    "\n",
    "for i in range(16):\n",
    "   em = \"ener_lam\"+str(i)+\".edr\"\n",
    "   df = panedr.edr_to_df(em)\n",
    "   arr=np.array(df[u'Potential'])\n",
    "   for j in range((len(df))):\n",
    "        Ene2d[j][i]=arr[j]"
   ]
  },
  {
   "cell_type": "code",
   "execution_count": 2,
   "metadata": {},
   "outputs": [
    {
     "data": {
      "text/plain": [
       "-258.24154595700566"
      ]
     },
     "execution_count": 2,
     "metadata": {},
     "output_type": "execute_result"
    }
   ],
   "source": [
    "bias=Ene2d-Ene2d[:,0][:,np.newaxis]\n",
    "a =wham.wham(bias=bias, T=2.476, maxiter=10000)\n",
    "2.476*(a[u'logZ'][15]-a[u'logZ'][0])"
   ]
  },
  {
   "cell_type": "code",
   "execution_count": 4,
   "metadata": {},
   "outputs": [
    {
     "data": {
      "text/plain": [
       "0.21234460754865622"
      ]
     },
     "execution_count": 4,
     "metadata": {},
     "output_type": "execute_result"
    }
   ],
   "source": [
    "Nene=200\n",
    "DeGs=[]\n",
    "\n",
    "#Reading Demux indexes, they are needed to correctly count how much times the extracted trajecotries spend in each Hamiltonian system\n",
    "replica_temp=np.loadtxt(\"../replica_temp.xvg\")\n",
    "replica_temp=replica_temp[:,1:]\n",
    "replica_temp=replica_temp.astype(int)\n",
    "\n",
    "\n",
    "for i in range(Nene):\n",
    "    bias=Ene2d-Ene2d[:,0][:,np.newaxis]\n",
    "\n",
    "    \n",
    "    tr_w=np.zeros(16)\n",
    "    sample=np.random.choice(16,size=16)\n",
    "    for k in range(len(sample)):\n",
    "        L=np.bincount(replica_temp[:,sample[k]],minlength=16)\n",
    "        for j in range(len(L)):\n",
    "            tr_w[j]+=L[j]\n",
    "            \n",
    "    bias=bias.reshape((16,-1,16))[sample,:,:].reshape((-1,16))\n",
    "    a =wham.wham(bias=bias, T=2.476, traj_weight=tr_w, maxiter=10000, logZ=a.logZ)\n",
    "    DeGs.append(2.476*(a[u'logZ'][15]-a[u'logZ'][0]))\n",
    "    \n",
    "np.std(DeGs)"
   ]
  },
  {
   "cell_type": "code",
   "execution_count": 2,
   "metadata": {},
   "outputs": [
    {
     "data": {
      "text/plain": [
       "0.03734138647905125"
      ]
     },
     "execution_count": 2,
     "metadata": {},
     "output_type": "execute_result"
    }
   ],
   "source": [
    "import math\n",
    "math.pi\n",
    "\n",
    "eta6=np.loadtxt(\"../COLVAR\")\n",
    "corr=2.5*(1+np.cos(eta6[:,1]-math.pi))\n",
    "\n",
    "np.mean(corr)"
   ]
  },
  {
   "cell_type": "code",
   "execution_count": 3,
   "metadata": {},
   "outputs": [
    {
     "data": {
      "text/plain": [
       "0.05310754171884582"
      ]
     },
     "execution_count": 3,
     "metadata": {},
     "output_type": "execute_result"
    }
   ],
   "source": [
    "np.std(corr)"
   ]
  },
  {
   "cell_type": "code",
   "execution_count": 4,
   "metadata": {},
   "outputs": [
    {
     "data": {
      "text/plain": [
       "-258.27846410938673"
      ]
     },
     "execution_count": 4,
     "metadata": {},
     "output_type": "execute_result"
    }
   ],
   "source": [
    "Ene2d[:,0] = Ene2d[:,0]-corr\n",
    "Ene2d\n",
    "\n",
    "bias=Ene2d-Ene2d[:,0][:,np.newaxis]\n",
    "a =wham.wham(bias=bias, T=2.476, maxiter=10000)\n",
    "2.476*(a[u'logZ'][15]-a[u'logZ'][0])"
   ]
  },
  {
   "cell_type": "code",
   "execution_count": 12,
   "metadata": {},
   "outputs": [
    {
     "data": {
      "text/plain": [
       "-237.51121809834197"
      ]
     },
     "execution_count": 12,
     "metadata": {},
     "output_type": "execute_result"
    }
   ],
   "source": [
    "import math\n",
    "em = \"../Rerun/plain_Aduri_lam15.edr\"\n",
    "df = panedr.edr_to_df(em)\n",
    "arrS=np.array(df[u'Potential'])\n",
    "2.476*(math.log(sum(np.exp(a.logW)*np.exp(-(1/2.476)*(arrS-Ene2d[:,0]))))-a[u'logZ'][0])"
   ]
  },
  {
   "cell_type": "code",
   "execution_count": 14,
   "metadata": {},
   "outputs": [
    {
     "data": {
      "text/plain": [
       "-0.025731106687613334"
      ]
     },
     "execution_count": 14,
     "metadata": {},
     "output_type": "execute_result"
    }
   ],
   "source": [
    "a[u'logZ'][0]"
   ]
  },
  {
   "cell_type": "code",
   "execution_count": 4,
   "metadata": {},
   "outputs": [
    {
     "data": {
      "text/plain": [
       "18485.141276025595"
      ]
     },
     "execution_count": 4,
     "metadata": {},
     "output_type": "execute_result"
    }
   ],
   "source": [
    "w=np.exp(a.logW)*np.exp(-(1/2.476)*(Ene2d[:,15]-Ene2d[:,0]))\n",
    "(np.sum(w))**2 / np.sum(w**2)"
   ]
  },
  {
   "cell_type": "code",
   "execution_count": 7,
   "metadata": {},
   "outputs": [
    {
     "data": {
      "text/plain": [
       "12980.946483349167"
      ]
     },
     "execution_count": 7,
     "metadata": {},
     "output_type": "execute_result"
    }
   ],
   "source": [
    "w=np.exp(a.logW)*np.exp(-(1/2.476)*(arrS-Ene2d[:,0]))\n",
    "(np.sum(w))**2 / np.sum(w**2)"
   ]
  },
  {
   "cell_type": "code",
   "execution_count": 8,
   "metadata": {},
   "outputs": [
    {
     "data": {
      "text/plain": [
       "-0.9168"
      ]
     },
     "execution_count": 8,
     "metadata": {},
     "output_type": "execute_result"
    }
   ],
   "source": [
    "1.087830-2*0.766660-0.471310"
   ]
  },
  {
   "cell_type": "code",
   "execution_count": 9,
   "metadata": {},
   "outputs": [
    {
     "data": {
      "text/plain": [
       "-0.8647000000000001"
      ]
     },
     "execution_count": 9,
     "metadata": {},
     "output_type": "execute_result"
    }
   ],
   "source": [
    "1.1662-2*0.766-0.4989"
   ]
  },
  {
   "cell_type": "code",
   "execution_count": 11,
   "metadata": {},
   "outputs": [
    {
     "data": {
      "text/plain": [
       "0.05209999999999981"
      ]
     },
     "execution_count": 11,
     "metadata": {},
     "output_type": "execute_result"
    }
   ],
   "source": [
    "0.9168-0.8647000000000001"
   ]
  },
  {
   "cell_type": "code",
   "execution_count": null,
   "metadata": {},
   "outputs": [],
   "source": []
  }
 ],
 "metadata": {
  "kernelspec": {
   "display_name": "Python 3",
   "language": "python",
   "name": "python3"
  },
  "language_info": {
   "codemirror_mode": {
    "name": "ipython",
    "version": 3
   },
   "file_extension": ".py",
   "mimetype": "text/x-python",
   "name": "python",
   "nbconvert_exporter": "python",
   "pygments_lexer": "ipython3",
   "version": "3.7.8"
  }
 },
 "nbformat": 4,
 "nbformat_minor": 4
}
